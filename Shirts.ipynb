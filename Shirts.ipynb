{
 "metadata": {
  "language_info": {
   "codemirror_mode": {
    "name": "ipython",
    "version": 3
   },
   "file_extension": ".py",
   "mimetype": "text/x-python",
   "name": "python",
   "nbconvert_exporter": "python",
   "pygments_lexer": "ipython3",
   "version": "3.7.6-final"
  },
  "orig_nbformat": 2,
  "kernelspec": {
   "name": "python3",
   "display_name": "Python 3"
  }
 },
 "nbformat": 4,
 "nbformat_minor": 2,
 "cells": [
  {
   "source": [
    "## Introduction to OOP"
   ],
   "cell_type": "markdown",
   "metadata": {}
  },
  {
   "cell_type": "code",
   "execution_count": 80,
   "metadata": {},
   "outputs": [],
   "source": [
    "class Shirt:\n",
    "\n",
    "    def __init__(self, shirt_color, shirt_size, shirt_style, shirt_price):\n",
    "        self.color = shirt_color\n",
    "        self.size = shirt_size\n",
    "        self.style = shirt_style\n",
    "        self.price = shirt_price\n",
    "    \n",
    "    def change_price(self, new_price):\n",
    "    \n",
    "        self.price = new_price\n",
    "        \n",
    "    def discount(self, discount):\n",
    "\n",
    "       self.price = self.price * (1 - discount)\n",
    "       return self.price"
   ]
  },
  {
   "cell_type": "code",
   "execution_count": 81,
   "metadata": {},
   "outputs": [],
   "source": [
    "#    - insantiate a shirt object with the following characteristics:\n",
    "#        - color red, size S, style long-sleeve, and price 25\n",
    "#    - store the object in a variable called shirt_one\n",
    "\n",
    "shirt_one = Shirt(\"red\", \"S\", \"long-sleeve\", 25)"
   ]
  },
  {
   "cell_type": "code",
   "execution_count": 82,
   "metadata": {},
   "outputs": [
    {
     "output_type": "stream",
     "name": "stdout",
     "text": [
      "25\n10\n"
     ]
    }
   ],
   "source": [
    "#     - print the price of the shirt using the price attribute\n",
    "#     - use the change_price method to change the price of the shirt to 10\n",
    "#     - print the price of the shirt using the price attribute\n",
    "print (shirt_one.price)\n",
    "shirt_one.change_price(10)\n",
    "print(shirt_one.price)"
   ]
  },
  {
   "cell_type": "code",
   "execution_count": 83,
   "metadata": {},
   "outputs": [
    {
     "output_type": "stream",
     "name": "stdout",
     "text": [
      "8.8\n"
     ]
    }
   ],
   "source": [
    "#     - use the discount method to print the price of the shirt with a 12% discount\n",
    "shirt_one.discount(.12)\n",
    "print(shirt_one.price)"
   ]
  },
  {
   "cell_type": "code",
   "execution_count": 84,
   "metadata": {},
   "outputs": [],
   "source": [
    "#    - instantiate another object with the following characteristics:\n",
    "# .       - color orange, size L, style short-sleeve, and price 10\n",
    "#    - store the object in a variable called shirt_two\n",
    "shirt_two = Shirt(\"orange\", \"L\", \"short-sleeve\", 10)"
   ]
  },
  {
   "cell_type": "code",
   "execution_count": 85,
   "metadata": {},
   "outputs": [
    {
     "output_type": "execute_result",
     "data": {
      "text/plain": [
       "18.8"
      ]
     },
     "metadata": {},
     "execution_count": 85
    }
   ],
   "source": [
    "#    - calculate the total cost of shirt_one and shirt_two\n",
    "#    - store the results in a variable called total\n",
    "shirt_two.change_price(10)\n",
    "total = shirt_one.price + shirt_two.price\n",
    "total"
   ]
  },
  {
   "cell_type": "code",
   "execution_count": 86,
   "metadata": {},
   "outputs": [
    {
     "output_type": "execute_result",
     "data": {
      "text/plain": [
       "-164.4"
      ]
     },
     "metadata": {},
     "execution_count": 86
    }
   ],
   "source": [
    "#    - use the shirt discount method to calculate the total cost if\n",
    "#       shirt_one has a discount of 14% and shirt_two has a discount\n",
    "#       of 6%\n",
    "#    - store the results in a variable called total_discount\n",
    "\n",
    "shirt_one.discount(14)\n",
    "shirt_two.discount(6)\n",
    "total_discount = shirt_one.price + shirt_two.price\n",
    "total_discount"
   ]
  },
  {
   "source": [
    "### Example Dollars versus Euros\n",
    "If you've changed attribute values directly, you'll have to go through your code and find all the places where US dollars were used but if we use a method, then we would only have to change the method to convert from dollars to Euros."
   ],
   "cell_type": "markdown",
   "metadata": {}
  },
  {
   "cell_type": "code",
   "execution_count": 87,
   "metadata": {},
   "outputs": [],
   "source": [
    "def change_price(self, new_price):\n",
    "    self.price = new_price*0.81 #convert dollars to Euros. \n",
    " "
   ]
  },
  {
   "cell_type": "code",
   "execution_count": 88,
   "metadata": {},
   "outputs": [
    {
     "output_type": "stream",
     "name": "stdout",
     "text": [
      "10\n"
     ]
    }
   ],
   "source": [
    "shirt_one.change_price(10)\n",
    "print(shirt_one.price)\n"
   ]
  },
  {
   "source": [
    "# Syntax Exercise Pants\n",
    "\n",
    "- code a Pants class with the following attributes\n",
    "- color (string) eg 'red', 'yellow', 'orange'\n",
    "- waist_size (integer) eg 8, 9, 10, 32, 33, 34\n",
    "- length (integer) eg 27, 28, 29, 30, 31\n",
    "- price (float) eg 9.28"
   ],
   "cell_type": "markdown",
   "metadata": {}
  },
  {
   "cell_type": "code",
   "execution_count": 96,
   "metadata": {},
   "outputs": [],
   "source": [
    "class Pants:\n",
    "\n",
    "    def __init__(self, pants_color, pants_size, pants_length, pants_price):\n",
    "        self.color = pants_color\n",
    "        self.size = pants_size\n",
    "        self.style = pants_style\n",
    "        self.price = pants_price\n",
    "\n",
    "    def change_pants_price(self, n_price):\n",
    "    \n",
    "        self.price = n_price\n",
    "\n",
    "    def discount(self, discount):\n",
    "\n",
    "        self.price = self.price * (1 - discount)   "
   ]
  },
  {
   "cell_type": "code",
   "execution_count": null,
   "metadata": {},
   "outputs": [],
   "source": []
  }
 ]
}